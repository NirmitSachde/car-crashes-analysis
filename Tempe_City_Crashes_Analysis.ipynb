{
 "cells": [
  {
   "cell_type": "code",
   "execution_count": null,
   "id": "c428fd41-64a4-480f-987b-88cc87d7cc59",
   "metadata": {},
   "outputs": [],
   "source": [
    "import pandas as pd\n",
    "import matplotlib.pyplot as plt\n",
    "import plotly.express as px\n",
    "import pandas as pd\n",
    "import plotly.graph_objs as go\n",
    "from bokeh.plotting import figure, show, output_file\n",
    "from bokeh.tile_providers import CARTODBPOSITRON\n",
    "from pyproj import Proj, transform\n",
    "import dash\n",
    "from dash import dcc, html\n",
    "from dash.dependencies import Input, Output, State\n",
    "\n"
   ]
  },
  {
   "cell_type": "code",
   "execution_count": null,
   "id": "33e9899d-4879-4da7-a72c-643af40192d3",
   "metadata": {},
   "outputs": [],
   "source": [
    "file_path = 'H:/My Drive/DAE/CVA/Project 3/1.08_Crash_Data_Report_(detail).csv'\n",
    "crash_data = pd.read_csv(file_path)\n",
    "crash_data"
   ]
  },
  {
   "cell_type": "code",
   "execution_count": null,
   "id": "1be3a4d5-22a9-4271-b960-b693d3617c02",
   "metadata": {},
   "outputs": [],
   "source": [
    "crash_data.info()"
   ]
  },
  {
   "cell_type": "markdown",
   "id": "9b85d267",
   "metadata": {},
   "source": [
    "# Preprocessing"
   ]
  },
  {
   "cell_type": "code",
   "execution_count": null,
   "id": "41a73a68",
   "metadata": {},
   "outputs": [],
   "source": [
    "crash_data['Age_Drv1'].fillna(crash_data['Age_Drv1'].mean(), inplace=True)"
   ]
  },
  {
   "cell_type": "code",
   "execution_count": null,
   "id": "e2274ad8-4209-4c62-889f-827444924d8c",
   "metadata": {},
   "outputs": [],
   "source": [
    "crash_data.drop(['X', 'Y'], axis=1, inplace=True)"
   ]
  },
  {
   "cell_type": "code",
   "execution_count": null,
   "id": "ae2d4817",
   "metadata": {},
   "outputs": [],
   "source": [
    "crash_data_sorted = crash_data.sort_values(by='DateTime')\n",
    "crash_data['DateTime'] = pd.to_datetime(crash_data['DateTime'])\n",
    "crash_data['Date'] = crash_data['DateTime'].dt.date\n",
    "crash_data['Month'] = crash_data['DateTime'].dt.month\n",
    "crash_data['Hour'] = crash_data['DateTime'].dt.hour\n",
    "crash_data['Lightcondition'] = crash_data['Lightcondition'].replace(['51', 'Unknown 51'], 'Unknown')  "
   ]
  },
  {
   "cell_type": "code",
   "execution_count": null,
   "id": "6972cae0",
   "metadata": {},
   "outputs": [],
   "source": [
    "crash_data['Totalfatalities'].fillna(0, inplace=True)\n",
    "crash_data['Totalinjuries'].fillna(0, inplace=True)"
   ]
  },
  {
   "cell_type": "code",
   "execution_count": null,
   "id": "f548a0e3",
   "metadata": {},
   "outputs": [],
   "source": [
    "\n",
    "crash_data['NormalizedInjuries'] = crash_data['Totalinjuries'] / crash_data['Totalinjuries'].max() * 20"
   ]
  },
  {
   "cell_type": "code",
   "execution_count": null,
   "id": "7558e7e6",
   "metadata": {},
   "outputs": [],
   "source": []
  },
  {
   "cell_type": "markdown",
   "id": "19bff8b5",
   "metadata": {},
   "source": [
    "# Visualizations"
   ]
  },
  {
   "cell_type": "code",
   "execution_count": null,
   "id": "74730a8c",
   "metadata": {},
   "outputs": [],
   "source": [
    "incidents_by_year = crash_data.groupby('Year').size()\n",
    "crash_data_sorted = crash_data.sort_values(by='DateTime')"
   ]
  },
  {
   "cell_type": "code",
   "execution_count": null,
   "id": "2c27e0fb",
   "metadata": {},
   "outputs": [],
   "source": [
    "incidents_by_year.plot(kind='bar')\n",
    "plt.title('Number of Incidents by Year')\n",
    "plt.xlabel('Year')\n",
    "plt.ylabel('Number of Incidents')\n",
    "plt.show()"
   ]
  },
  {
   "cell_type": "code",
   "execution_count": null,
   "id": "acecf957",
   "metadata": {},
   "outputs": [],
   "source": [
    "date_counts = crash_data.groupby('Date').size().reset_index(name='Counts')\n",
    "\n",
    "fig = px.line(date_counts,\n",
    "              x='Date',\n",
    "              y='Counts',\n",
    "              title='Trend of Crashes Over Time')\n",
    "\n",
    "fig.update_layout(xaxis_title='Date',\n",
    "                  yaxis_title='Number of Crashes')\n",
    "\n",
    "fig.show()\n"
   ]
  },
  {
   "cell_type": "code",
   "execution_count": null,
   "id": "95670cc6",
   "metadata": {},
   "outputs": [],
   "source": [
    "crash_data.plot(kind='scatter', x='Longitude', y='Latitude', alpha=0.5)\n",
    "plt.xlabel('Longitude')\n",
    "plt.ylabel('Latitude')\n",
    "plt.title('Geospatial Distribution of Crashes')\n",
    "plt.show()"
   ]
  },
  {
   "cell_type": "code",
   "execution_count": null,
   "id": "54926afa",
   "metadata": {},
   "outputs": [],
   "source": [
    "p = figure(x_axis_type=\"mercator\", y_axis_type=\"mercator\")\n",
    "p.add_tile(CARTODBPOSITRON)"
   ]
  },
  {
   "cell_type": "code",
   "execution_count": null,
   "id": "ae973174",
   "metadata": {},
   "outputs": [],
   "source": [
    "fig = px.scatter_mapbox(crash_data,\n",
    "                        lat='Latitude',\n",
    "                        lon='Longitude',\n",
    "                        color='Injuryseverity', \n",
    "                        hover_name='StreetName',  \n",
    "                        hover_data=['DateTime', 'Totalinjuries', 'Totalfatalities'], \n",
    "                        center={\"lat\": crash_data['Latitude'].mean(), \"lon\": crash_data['Longitude'].mean()},  \n",
    "                        zoom=10,  \n",
    "                        mapbox_style=\"open-street-map\",  \n",
    "                        title=\"Geospatial Distribution of Crashes by Injury Severity\")  \n",
    "fig.update_layout(width=1000, height=1100)\n",
    "\n",
    "fig.show()\n"
   ]
  },
  {
   "cell_type": "code",
   "execution_count": null,
   "id": "cfe4b43d",
   "metadata": {},
   "outputs": [],
   "source": [
    "fig = px.scatter_mapbox(crash_data,\n",
    "                        lat='Latitude',\n",
    "                        lon='Longitude',\n",
    "                        color='Injuryseverity',\n",
    "                        size='Totalinjuries',\n",
    "                        size_max=15,\n",
    "                        opacity=0.8,\n",
    "                        color_continuous_scale=px.colors.cyclical.IceFire,\n",
    "                        hover_name='StreetName',\n",
    "                        hover_data=['DateTime', 'Totalinjuries', 'Totalfatalities'],\n",
    "                        center={\"lat\": crash_data['Latitude'].mean(), \"lon\": crash_data['Longitude'].mean()},\n",
    "                        zoom=11,\n",
    "                        mapbox_style=\"open-street-map\",\n",
    "                        animation_frame='Year',  \n",
    "                        title=\"Geospatial Distribution of Crashes by Injury Severity\")\n",
    "\n",
    "fig.update_layout(margin={\"r\":0,\"t\":0,\"l\":0,\"b\":0})\n",
    "fig.update_layout(width=1000, height=1100)\n",
    "\n",
    "fig.show()\n"
   ]
  },
  {
   "cell_type": "code",
   "execution_count": null,
   "id": "91bca1d4",
   "metadata": {},
   "outputs": [],
   "source": [
    "heatmap = go.Densitymapbox(lat=crash_data['Latitude'], lon=crash_data['Longitude'],\n",
    "                           z=crash_data['Totalinjuries'], radius=10)\n",
    "\n",
    "fatal_crashes = crash_data[crash_data['Injuryseverity'] == 'Fatal']\n",
    "fatal_trace = go.Scattermapbox(lat=fatal_crashes['Latitude'], lon=fatal_crashes['Longitude'],\n",
    "                               mode='markers', marker=go.scattermapbox.Marker(size=12, color='red', symbol='cross'))\n",
    "\n",
    "fig = go.Figure([heatmap, fatal_trace])\n",
    "\n",
    "fig.update_layout(mapbox_style=\"open-street-map\",\n",
    "                  mapbox=dict(center=dict(lat=crash_data['Latitude'].mean(),\n",
    "                                          lon=crash_data['Longitude'].mean()), zoom=10))\n",
    "\n",
    "fig.update_layout(mapbox_layers=[\n",
    "    {\n",
    "        \"below\": 'traces',\n",
    "        \"sourcetype\": \"raster\",\n",
    "        \"sourceattribution\": \"United States Geological Survey\",\n",
    "        \"source\": [\n",
    "            \"https://server.arcgisonline.com/ArcGIS/rest/services/World_Imagery/MapServer/tile/{z}/{y}/{x}\"\n",
    "        ]\n",
    "    }\n",
    "])\n",
    "fig.update_layout(margin={\"r\":0,\"t\":0,\"l\":0,\"b\":0})\n",
    "fig.update_layout(width=1000, height=1100)\n",
    "fig.show()\n"
   ]
  },
  {
   "cell_type": "code",
   "execution_count": null,
   "id": "96345975",
   "metadata": {},
   "outputs": [],
   "source": [
    "crash_trace = go.Scattermapbox(\n",
    "    lat=crash_data['Latitude'],\n",
    "    lon=crash_data['Longitude'],\n",
    "    mode='markers',\n",
    "    marker=dict(\n",
    "        size=crash_data['NormalizedInjuries'],\n",
    "        color=crash_data['Totalinjuries'],\n",
    "        colorscale='Viridis',\n",
    "        showscale=True,\n",
    "        opacity=0.7\n",
    "    ),\n",
    "    text=crash_data['StreetName'],\n",
    "    hoverinfo='text'\n",
    ")\n",
    "\n",
    "layout = go.Layout(\n",
    "    mapbox=dict(\n",
    "        center=dict(lat=crash_data['Latitude'].mean(), lon=crash_data['Longitude'].mean()),\n",
    "        zoom=10,\n",
    "        style='open-street-map'\n",
    "    ),\n",
    "    width= 900,\n",
    "    height=1200,\n",
    "    margin=dict(t=0, b=0, l=0, r=0)\n",
    ")\n",
    "\n",
    "fig = go.Figure(data=[crash_trace], layout=layout)\n",
    "\n",
    "fig.show()\n"
   ]
  },
  {
   "cell_type": "code",
   "execution_count": null,
   "id": "a93b0d7f",
   "metadata": {},
   "outputs": [],
   "source": [
    "app = dash.Dash(__name__)\n",
    "\n",
    "fig = px.scatter_mapbox(crash_data,\n",
    "                        lat='Latitude',\n",
    "                        lon='Longitude',\n",
    "                        hover_name='StreetName',\n",
    "                        hover_data=['DateTime', 'Totalinjuries', 'Totalfatalities', 'JunctionRelation'],\n",
    "                        mapbox_style=\"open-street-map\",\n",
    "                        width=1000,\n",
    "                        height=1200)\n",
    "\n",
    "app.layout = html.Div([\n",
    "    dcc.Graph(\n",
    "        id='crash-map',\n",
    "        figure=fig\n",
    "    ),\n",
    "    html.Pre(id='click-data', style={'paddingTop': 35})\n",
    "])\n",
    "\n",
    "@app.callback(\n",
    "    Output('click-data', 'children'),\n",
    "    [Input('crash-map', 'clickData')])\n",
    "def display_click_data(clickData):\n",
    "    if clickData is not None:\n",
    "        index = clickData['points'][0]['pointIndex']\n",
    "        return generate_report_card(index)\n",
    "\n",
    "def generate_report_card(index):\n",
    "    data = crash_data.iloc[index]  \n",
    "    return f\"Date/Time: {data['DateTime']}\\n\"\\\n",
    "           f\"Location: {data['StreetName']} at {data['CrossStreet']}\\n\"\\\n",
    "           f\"Total Injuries: {data['Totalinjuries']}\\n\"\\\n",
    "           f\"Total Fatalities: {data['Totalfatalities']}\"\n",
    "\n",
    "if __name__ == '__main__':\n",
    "    app.run_server(debug=True, port=8051)  \n",
    "\n"
   ]
  },
  {
   "cell_type": "code",
   "execution_count": null,
   "id": "27a6dbfa",
   "metadata": {},
   "outputs": [],
   "source": [
    "severity_counts = crash_data['Injuryseverity'].value_counts().reset_index()\n",
    "severity_counts.columns = ['Injury Severity', 'Count']\n",
    "\n",
    "fig = px.bar(severity_counts,\n",
    "             x='Injury Severity',\n",
    "             y='Count',\n",
    "             title='Total Injuries by Severity')\n",
    "\n",
    "fig.update_layout(xaxis_title='Injury Severity',\n",
    "                  yaxis_title='Number of Injuries',\n",
    "                  xaxis={'categoryorder':'total descending'})\n",
    "\n",
    "fig.show()"
   ]
  },
  {
   "cell_type": "code",
   "execution_count": null,
   "id": "f027356e",
   "metadata": {},
   "outputs": [],
   "source": [
    "fig = px.scatter_mapbox(crash_data, lat='Latitude', lon='Longitude',\n",
    "                        size='Totalfatalities', color='Totalfatalities',\n",
    "                        color_continuous_scale=px.colors.sequential.Viridis,\n",
    "                        size_max=15, zoom=10, mapbox_style=\"open-street-map\")\n",
    "\n",
    "fig.update_layout(mapbox_style=\"open-street-map\",\n",
    "                  mapbox=dict(center=dict(lat=crash_data['Latitude'].mean(),\n",
    "                                          lon=crash_data['Longitude'].mean()), zoom=10),\n",
    "                  margin={\"r\":0,\"t\":0,\"l\":0,\"b\":0},\n",
    "                 width = 1000, \n",
    "                 height = 1200)\n",
    "\n",
    "fig.show()"
   ]
  },
  {
   "cell_type": "code",
   "execution_count": null,
   "id": "23f87928",
   "metadata": {},
   "outputs": [],
   "source": [
    "fig = px.scatter_mapbox(crash_data,\n",
    "                        lat='Latitude',\n",
    "                        lon='Longitude',\n",
    "                        color='Lightcondition',\n",
    "                        hover_name='StreetName',\n",
    "                        hover_data=['DateTime', 'Totalinjuries', 'Totalfatalities'],\n",
    "                        mapbox_style=\"open-street-map\",\n",
    "                        zoom=10,\n",
    "                        title=\"Crashes by Light Condition\")\n",
    "\n",
    "fig.update_layout(margin={\"r\":0,\"t\":0,\"l\":0,\"b\":0})\n",
    "fig.update_layout(width=1000, height=1100)\n",
    "fig.show()"
   ]
  },
  {
   "cell_type": "code",
   "execution_count": null,
   "id": "c1e9964d",
   "metadata": {},
   "outputs": [],
   "source": [
    "hourly_locations = crash_data.groupby(['Latitude', 'Longitude', 'Hour']).size().reset_index(name='Counts')\n",
    "hourly_locations = hourly_locations.sort_values(by='Hour')\n",
    "\n",
    "fig = go.Figure()\n",
    "\n",
    "for hour in hourly_locations['Hour'].unique():\n",
    "    filtered_data = hourly_locations[hourly_locations['Hour'] == hour]\n",
    "    fig.add_trace(go.Densitymapbox(lat=filtered_data['Latitude'],\n",
    "                                   lon=filtered_data['Longitude'],\n",
    "                                   z=filtered_data['Counts'],\n",
    "                                   radius=10,\n",
    "                                   visible=False, \n",
    "                                   name=f'Hour {hour}'))\n",
    "\n",
    "fig.data[0].visible = True\n",
    "\n",
    "steps = []\n",
    "for i, hour in enumerate(hourly_locations['Hour'].unique()):\n",
    "    step = dict(\n",
    "        method=\"update\",\n",
    "        args=[{\"visible\": [False] * len(fig.data)},\n",
    "              {\"title\": f\"Crash Density by Hour: {hour}\"}],  \n",
    "    )\n",
    "    step[\"args\"][0][\"visible\"][i] = True \n",
    "    steps.append(step)\n",
    "\n",
    "fig.update_layout(updatemenus=[dict(type='buttons', showactive=False,\n",
    "                                    buttons=[dict(label='Play',\n",
    "                                                  method='animate',\n",
    "                                                  args=[None, dict(frame=dict(duration=500, redraw=True), fromcurrent=True)])])])\n",
    "\n",
    "fig.update_layout(height=800, width=800)\n",
    "\n",
    "sliders = [dict(\n",
    "    active=0,\n",
    "    currentvalue={\"prefix\": \"Hour: \"},\n",
    "    pad={\"t\": 50},\n",
    "    steps=steps\n",
    ")]\n",
    "\n",
    "fig.update_layout(\n",
    "    sliders=sliders,\n",
    "    mapbox_style=\"open-street-map\",\n",
    "    mapbox_center={\"lat\": crash_data['Latitude'].mean(), \"lon\": crash_data['Longitude'].mean()},\n",
    "    mapbox_zoom=10)\n",
    "\n",
    "fig.show()"
   ]
  },
  {
   "cell_type": "code",
   "execution_count": null,
   "id": "22e805ae",
   "metadata": {},
   "outputs": [],
   "source": [
    "monthly_locations = crash_data.groupby(['Latitude', 'Longitude', 'Month']).size().reset_index(name='Counts')\n",
    "\n",
    "app = dash.Dash(__name__)\n",
    "\n",
    "app.layout = html.Div([\n",
    "    dcc.Graph(id='dynamic-crash-map'),\n",
    "    html.Button('Start/Stop', id='play-button', n_clicks=0),\n",
    "    dcc.Interval(\n",
    "            id='interval-component',\n",
    "            interval=1*1000,  \n",
    "            n_intervals=0,\n",
    "            disabled=True  \n",
    "        )\n",
    "])\n",
    "\n",
    "@app.callback(\n",
    "    Output('interval-component', 'disabled'),\n",
    "    [Input('play-button', 'n_clicks')],\n",
    "    [State('interval-component', 'disabled')]\n",
    ")\n",
    "def toggle_interval(n_clicks, is_disabled):\n",
    "    if n_clicks:\n",
    "        return not is_disabled\n",
    "    return is_disabled\n",
    "\n",
    "@app.callback(Output('dynamic-crash-map', 'figure'),\n",
    "              [Input('interval-component', 'n_intervals')],\n",
    "              [State('interval-component', 'disabled')])\n",
    "def update_map(n, is_disabled):\n",
    "    if is_disabled:\n",
    "        raise dash.exceptions.PreventUpdate\n",
    "    \n",
    "    month = (n % 12) + 1\n",
    "    \n",
    "    filtered_data = monthly_locations[monthly_locations['Month'] == month]\n",
    "    \n",
    "    fig = go.Figure(go.Densitymapbox(lat=filtered_data['Latitude'], \n",
    "                                     lon=filtered_data['Longitude'], \n",
    "                                     z=filtered_data['Counts'], \n",
    "                                     radius=10,\n",
    "                                     name=f'Month {month}'))\n",
    "\n",
    "    \n",
    "    months_of_year = ['January', 'February', 'March', 'April', 'May', 'June', \n",
    "                      'July', 'August', 'September', 'October', 'November', 'December']\n",
    "    \n",
    "    fig.update_layout(\n",
    "        mapbox_style=\"open-street-map\",\n",
    "        mapbox_center={\"lat\": crash_data['Latitude'].mean(), \"lon\": crash_data['Longitude'].mean()},\n",
    "        mapbox_zoom=10,\n",
    "        title=f\"Crash Density: {months_of_year[month-1]}\",\n",
    "        width=1000, height=1100\n",
    "    )\n",
    "    \n",
    "    return fig\n",
    "\n",
    "if __name__ == '__main__':\n",
    "    app.run_server(debug=True, port = 8051)\n"
   ]
  },
  {
   "cell_type": "code",
   "execution_count": null,
   "id": "28dd0472",
   "metadata": {},
   "outputs": [],
   "source": []
  },
  {
   "cell_type": "code",
   "execution_count": null,
   "id": "484cfd21",
   "metadata": {},
   "outputs": [],
   "source": []
  }
 ],
 "metadata": {
  "kernelspec": {
   "display_name": "Python 3 (ipykernel)",
   "language": "python",
   "name": "python3"
  },
  "language_info": {
   "codemirror_mode": {
    "name": "ipython",
    "version": 3
   },
   "file_extension": ".py",
   "mimetype": "text/x-python",
   "name": "python",
   "nbconvert_exporter": "python",
   "pygments_lexer": "ipython3",
   "version": "3.12.0"
  }
 },
 "nbformat": 4,
 "nbformat_minor": 5
}
